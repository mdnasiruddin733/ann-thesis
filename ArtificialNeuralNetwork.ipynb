{
  "nbformat": 4,
  "nbformat_minor": 0,
  "metadata": {
    "colab": {
      "name": "ArtificialNeuralNetwork.ipynb",
      "provenance": [],
      "collapsed_sections": [],
      "mount_file_id": "1qunUKU7VAGrDHWcsSqKJRMzoznttQmsA",
      "authorship_tag": "ABX9TyMCHdc1EvSs9+FgH0pD5BNp",
      "include_colab_link": true
    },
    "kernelspec": {
      "name": "python3",
      "display_name": "Python 3"
    },
    "language_info": {
      "name": "python"
    }
  },
  "cells": [
    {
      "cell_type": "markdown",
      "metadata": {
        "id": "view-in-github",
        "colab_type": "text"
      },
      "source": [
        "<a href=\"https://colab.research.google.com/github/mdnasiruddin733/ann-thesis/blob/main/ArtificialNeuralNetwork.ipynb\" target=\"_parent\"><img src=\"https://colab.research.google.com/assets/colab-badge.svg\" alt=\"Open In Colab\"/></a>"
      ]
    },
    {
      "cell_type": "markdown",
      "metadata": {
        "id": "olHkm872Eau4"
      },
      "source": [
        "# **Steps to be follwed:**\n",
        "> \n",
        "\n",
        "*   Import necessary packages\n",
        "*   Load Data\n",
        "*   Define Keras Model\n",
        "*   Compile Keras Model\n",
        "*   Fit Keras Model\n",
        "*   Evaluate Keras Model\n",
        "*   Make Predictions\n",
        "\n",
        "\n",
        "\n",
        "\n",
        "\n",
        "\n",
        "\n",
        "\n",
        "\n",
        "\n",
        "\n",
        "\n",
        "\n",
        "\n",
        "\n",
        "\n"
      ]
    },
    {
      "cell_type": "code",
      "source": [
        "from google.colab import drive\n",
        "drive.mount('/content/drive')"
      ],
      "metadata": {
        "id": "qjVxBgR4J42K",
        "colab": {
          "base_uri": "https://localhost:8080/"
        },
        "outputId": "cb5a42ac-1ff8-47fb-f560-17a0d14f48c2"
      },
      "execution_count": 49,
      "outputs": [
        {
          "output_type": "stream",
          "name": "stdout",
          "text": [
            "Drive already mounted at /content/drive; to attempt to forcibly remount, call drive.mount(\"/content/drive\", force_remount=True).\n"
          ]
        }
      ]
    },
    {
      "cell_type": "markdown",
      "metadata": {
        "id": "-Sw4dDVdFxCA"
      },
      "source": [
        ""
      ]
    },
    {
      "cell_type": "markdown",
      "metadata": {
        "id": "dFRSjsvEDu47"
      },
      "source": [
        "## **Importing necessary packages and modules**\n"
      ]
    },
    {
      "cell_type": "code",
      "metadata": {
        "id": "U8iFYJYrGksk"
      },
      "source": [
        "import pandas as pd\n",
        "import keras\n",
        "from keras.models import Sequential\n",
        "from keras.layers import Dense\n",
        "from sklearn.model_selection import train_test_split\n",
        "from sklearn.preprocessing import StandardScaler\n",
        "from sklearn.metrics import r2_score\n",
        "import numpy as np\n"
      ],
      "execution_count": 50,
      "outputs": []
    },
    {
      "cell_type": "markdown",
      "metadata": {
        "id": "T0L9SYb0KOQm"
      },
      "source": [
        "## **Loading data from our data.csv file** "
      ]
    },
    {
      "cell_type": "code",
      "metadata": {
        "id": "-dkYh3-4K5Db",
        "colab": {
          "base_uri": "https://localhost:8080/"
        },
        "outputId": "450e3d90-efa4-4450-ecf3-e3ec6708d15c"
      },
      "source": [
        "url=\"/content/drive/MyDrive/coxbazar-data.csv\"\n",
        "df=pd.read_csv(url)\n",
        "print(df.shape)"
      ],
      "execution_count": 51,
      "outputs": [
        {
          "output_type": "stream",
          "name": "stdout",
          "text": [
            "(71, 5)\n"
          ]
        }
      ]
    },
    {
      "cell_type": "markdown",
      "metadata": {
        "id": "tMgbBqxVLPp1"
      },
      "source": [
        "## **Splitting dataset into input and output columns** "
      ]
    },
    {
      "cell_type": "code",
      "metadata": {
        "id": "fLiEU5k7LUnI",
        "colab": {
          "base_uri": "https://localhost:8080/"
        },
        "outputId": "ad8fbcb7-fc3d-4275-b093-183478cf434b"
      },
      "source": [
        "\n",
        "input_col=df.iloc[:,0:3]\n",
        "output_col=df.iloc[:,3:5]\n",
        "\n",
        "print(output_col)"
      ],
      "execution_count": 72,
      "outputs": [
        {
          "output_type": "stream",
          "name": "stdout",
          "text": [
            "    ll  pl\n",
            "0   40  23\n",
            "1   43  26\n",
            "2   39  21\n",
            "3   62  33\n",
            "4   38  22\n",
            "..  ..  ..\n",
            "66  48  25\n",
            "67  38  21\n",
            "68  45  23\n",
            "69  35  20\n",
            "70  30  16\n",
            "\n",
            "[71 rows x 2 columns]\n"
          ]
        }
      ]
    },
    {
      "cell_type": "markdown",
      "source": [
        "# **Splitting Training and Testing Data**\n"
      ],
      "metadata": {
        "id": "bYrqz44WddL4"
      }
    },
    {
      "cell_type": "code",
      "metadata": {
        "id": "TfFr3fymbWsC"
      },
      "source": [
        "x_train,x_test,y_train,y_test=train_test_split(input_col,output_col,test_size=0.20)"
      ],
      "execution_count": 73,
      "outputs": []
    },
    {
      "cell_type": "markdown",
      "source": [
        ""
      ],
      "metadata": {
        "id": "1T92ZAX5RS5N"
      }
    },
    {
      "cell_type": "markdown",
      "metadata": {
        "id": "YRxcTmKTNP7C"
      },
      "source": [
        "## **Defining and compiling keras model** "
      ]
    },
    {
      "cell_type": "code",
      "metadata": {
        "id": "iY1ImooSN-pU",
        "colab": {
          "base_uri": "https://localhost:8080/"
        },
        "outputId": "e384948c-cbd5-407f-9cac-9309851f892a"
      },
      "source": [
        "\n",
        "#defining layers\n",
        "model = Sequential()\n",
        "model.add(Dense(units=30,kernel_initializer='normal', activation='relu'))\n",
        "model.add(Dense(units=30,kernel_initializer='normal',activation=\"relu\"))\n",
        "model.add(Dense(units=30,kernel_initializer='normal',activation=\"relu\"))\n",
        "model.add(Dense(units=30,kernel_initializer='normal',activation=\"relu\"))\n",
        "model.add(Dense(2,activation=\"linear\"))\n",
        "\n",
        "\n",
        "# Compiling the model\n",
        "model.compile(loss='mean_squared_error', optimizer='adam',metrics=[\"mse\"])\n",
        " \n",
        "model.fit(x_train, y_train ,epochs = 1000, batch_size=60, verbose=0)\n",
        "y_true = np.array(y_test)\n",
        "y_pred = np.array(model.predict(x_test))\n",
        "r2_score(y_true,y_pred)\n"
      ],
      "execution_count": 74,
      "outputs": [
        {
          "output_type": "execute_result",
          "data": {
            "text/plain": [
              "0.6062334710066374"
            ]
          },
          "metadata": {},
          "execution_count": 74
        }
      ]
    },
    {
      "cell_type": "code",
      "source": [
        "test_loss,test_accuracy=model.evaluate(x_test,y_test)\n",
        "print(test_accuracy)"
      ],
      "metadata": {
        "id": "yNa0sJFlb7gg",
        "colab": {
          "base_uri": "https://localhost:8080/"
        },
        "outputId": "b8c3358a-60c2-4099-95c6-46b7590f9eb0"
      },
      "execution_count": 45,
      "outputs": [
        {
          "output_type": "stream",
          "name": "stdout",
          "text": [
            "1/1 [==============================] - 0s 113ms/step - loss: 24.0628 - mse: 24.0628\n",
            "24.062761306762695\n"
          ]
        }
      ]
    },
    {
      "cell_type": "markdown",
      "metadata": {
        "id": "vDCj9ju74-6s"
      },
      "source": [
        "# **Predicting model**\n"
      ]
    },
    {
      "cell_type": "code",
      "metadata": {
        "id": "UykOHdjKdAor",
        "colab": {
          "base_uri": "https://localhost:8080/"
        },
        "outputId": "5373fb67-3096-4972-eda9-d0577d7ad393"
      },
      "source": [
        "df=pd.DataFrame()\n",
        "df[\"sand\"]=x_test['sand']\n",
        "df[\"silt\"]=x_test['silt']\n",
        "df[\"clay\"]=x_test['clay']\n",
        "df[\"ll\"]=y_test['ll']\n",
        "df[\"predicted_ll\"]=model.predict(x_test)[:,0]\n",
        "df[\"pl\"]=y_test['pl']\n",
        "df[\"predicted_pl\"]=model.predict(x_test)[:,1]\n",
        "\n",
        "print(df)\n"
      ],
      "execution_count": 46,
      "outputs": [
        {
          "output_type": "stream",
          "name": "stdout",
          "text": [
            "    sand   silt   clay  ll  predicted_ll  pl  predicted_pl\n",
            "20  31.6  45.13  23.27  31     38.442123  19     20.185316\n",
            "1    1.4  64.52  34.08  43     47.839207  26     25.101332\n",
            "26  23.8  54.82  21.39  33     40.371304  22     21.194551\n",
            "5    9.1  40.28  50.62  48     47.517452  24     24.933010\n",
            "29   0.6  29.30  70.10  58     51.929218  29     27.240993\n",
            "34   1.8  38.60  59.60  57     50.473331  24     26.479357\n",
            "43   2.8  62.13  35.08  54     47.569260  26     24.960114\n",
            "61  50.8  33.03  16.17  32     32.443378  22     17.047112\n",
            "39   8.0  41.86  50.14  43     47.765812  25     25.062937\n",
            "0    4.7  68.37  26.93  40     46.170776  23     24.228506\n",
            "36   1.6  77.00  21.41  37     46.427063  24     24.362581\n",
            "2   18.9  39.43  41.67  39     43.883083  21     23.031715\n",
            "10  12.9  56.32  30.78  48     44.348602  25     23.275249\n",
            "54   2.1  42.99  54.91  59     49.887386  27     26.172825\n",
            "11   0.5  48.30  51.20  59     49.924889  30     26.192442\n",
            "63  14.0  36.46  49.54  54     46.065205  20     24.173279\n",
            "18   4.4  45.54  50.06  53     48.738884  26     25.571993\n",
            "38  22.5  57.03  20.47  30     40.622581  21     21.326006\n",
            "19  10.7  46.06  43.24  43     46.287865  23     24.289761\n",
            "4    8.0  65.80  26.20  38     45.192451  22     23.716702\n",
            "67   2.6  63.52  33.88  38     47.490486  21     24.918901\n",
            "46   1.0  75.28  23.72  45     46.834660  26     24.575813\n"
          ]
        }
      ]
    },
    {
      "cell_type": "markdown",
      "source": [
        "**Graphs**\n"
      ],
      "metadata": {
        "id": "3TPWVjxUd8ki"
      }
    },
    {
      "cell_type": "code",
      "source": [
        "import matplotlib.pyplot as plt\n",
        "\n",
        "fig1,sand=plt.subplots()\n",
        "sand.scatter(df['sand'],df['ll'])\n",
        "sand.scatter(df['sand'],df['predicted_ll'])\n",
        "sand.legend((\"Actual LL\",\"Predicted LL\"))\n",
        "sand.set_xlabel(\"% Sand\")\n",
        "sand.set_ylabel(\"Liquid Limit\")\n",
        "\n",
        "fig2,silt=plt.subplots()\n",
        "silt.scatter(df['silt'],df['ll'])\n",
        "silt.scatter(df['silt'],df['predicted_ll'])\n",
        "silt.legend((\"Actual LL\",\"Predicted LL\"))\n",
        "silt.set_xlabel(\"% Silt\")\n",
        "silt.set_ylabel(\"Liquid Limit\")\n",
        "\n",
        "fig3,clay=plt.subplots()\n",
        "clay.scatter(df['clay'],df['ll'])\n",
        "clay.scatter(df['clay'],df['predicted_ll'])\n",
        "clay.legend((\"Actual LL\",\"Predicted LL\"))\n",
        "clay.set_xlabel(\"% Clay\")\n",
        "clay.set_ylabel(\"Liquid Limit\")\n",
        "\n",
        "\n",
        "# Plastic Limit\n",
        "fig1,sand=plt.subplots()\n",
        "sand.scatter(df['sand'],df['pl'])\n",
        "sand.scatter(df['sand'],df['predicted_pl'])\n",
        "sand.legend((\"Actual PL\",\"Predicted PL\"))\n",
        "sand.set_xlabel(\"% Sand\")\n",
        "sand.set_ylabel(\"Plastic Limit\")\n",
        "\n",
        "fig2,silt=plt.subplots()\n",
        "silt.scatter(df['silt'],df['pl'])\n",
        "silt.scatter(df['silt'],df['predicted_pl'])\n",
        "silt.legend((\"Actual PL\",\"Predicted PL\"))\n",
        "silt.set_xlabel(\"% Silt\")\n",
        "silt.set_ylabel(\"Plastic Limit\")\n",
        "\n",
        "fig3,clay=plt.subplots()\n",
        "clay.scatter(df['clay'],df['pl'])\n",
        "clay.scatter(df['clay'],df['predicted_pl'])\n",
        "clay.legend((\"Actual PL\",\"Predicted PL\"))\n",
        "clay.set_xlabel(\"% Clay\")\n",
        "clay.set_ylabel(\"Plastic Limit\")\n",
        "\n",
        "\n"
      ],
      "metadata": {
        "id": "OhxWvKaarH-5",
        "colab": {
          "base_uri": "https://localhost:8080/",
          "height": 1000
        },
        "outputId": "11cbd1f7-f31c-4943-9d5f-b6a75f51056c"
      },
      "execution_count": 48,
      "outputs": [
        {
          "output_type": "execute_result",
          "data": {
            "text/plain": [
              "Text(0, 0.5, 'Plastic Limit')"
            ]
          },
          "metadata": {},
          "execution_count": 48
        },
        {
          "output_type": "display_data",
          "data": {
            "image/png": "[encoded data removed]",
            "text/plain": [
              "<Figure size 432x288 with 1 Axes>"
            ]
          },
          "metadata": {
            "needs_background": "light"
          }
        },
        {
          "output_type": "display_data",
          "data": {
            "image/png": "[encoded data removed]",
            "text/plain": [
              "<Figure size 432x288 with 1 Axes>"
            ]
          },
          "metadata": {
            "needs_background": "light"
          }
        },
        {
          "output_type": "display_data",
          "data": {
            "image/png": "[encoded data removed]",
            "text/plain": [
              "<Figure size 432x288 with 1 Axes>"
            ]
          },
          "metadata": {
            "needs_background": "light"
          }
        },
        {
          "output_type": "display_data",
          "data": {
            "image/png": "[encoded data removed]",
            "text/plain": [
              "<Figure size 432x288 with 1 Axes>"
            ]
          },
          "metadata": {
            "needs_background": "light"
          }
        },
        {
          "output_type": "display_data",
          "data": {
            "image/png": "[encoded data removed]",
            "text/plain": [
              "<Figure size 432x288 with 1 Axes>"
            ]
          },
          "metadata": {
            "needs_background": "light"
          }
        },
        {
          "output_type": "display_data",
          "data": {
            "image/png": "[encoded data removed]",
            "text/plain": [
              "<Figure size 432x288 with 1 Axes>"
            ]
          },
          "metadata": {
            "needs_background": "light"
          }
        }
      ]
    }
  ]
}