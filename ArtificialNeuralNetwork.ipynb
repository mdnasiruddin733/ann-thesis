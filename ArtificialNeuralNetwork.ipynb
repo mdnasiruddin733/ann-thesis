{
  "nbformat": 4,
  "nbformat_minor": 0,
  "metadata": {
    "colab": {
      "name": "ArtificialNeuralNetwork.ipynb",
      "provenance": [],
      "collapsed_sections": [],
      "mount_file_id": "1qunUKU7VAGrDHWcsSqKJRMzoznttQmsA",
      "authorship_tag": "ABX9TyNEmkEwI2A4DgFt/9NYsPxl",
      "include_colab_link": true
    },
    "kernelspec": {
      "name": "python3",
      "display_name": "Python 3"
    },
    "language_info": {
      "name": "python"
    }
  },
  "cells": [
    {
      "cell_type": "markdown",
      "metadata": {
        "id": "view-in-github",
        "colab_type": "text"
      },
      "source": [
        "<a href=\"https://colab.research.google.com/github/mdnasiruddin733/ann-thesis/blob/main/ArtificialNeuralNetwork.ipynb\" target=\"_parent\"><img src=\"https://colab.research.google.com/assets/colab-badge.svg\" alt=\"Open In Colab\"/></a>"
      ]
    },
    {
      "cell_type": "markdown",
      "metadata": {
        "id": "olHkm872Eau4"
      },
      "source": [
        "# **Steps to be follwed:**\n",
        "> \n",
        "\n",
        "*   Import necessary packages\n",
        "*   Load Data\n",
        "*   Define Keras Model\n",
        "*   Compile Keras Model\n",
        "*   Fit Keras Model\n",
        "*   Evaluate Keras Model\n",
        "*   Make Predictions\n",
        "\n",
        "\n",
        "\n",
        "\n",
        "\n",
        "\n",
        "\n",
        "\n",
        "\n",
        "\n",
        "\n",
        "\n",
        "\n",
        "\n",
        "\n",
        "\n"
      ]
    },
    {
      "cell_type": "code",
      "source": [
        "from google.colab import drive\n",
        "drive.mount('/content/drive')"
      ],
      "metadata": {
        "id": "qjVxBgR4J42K",
        "colab": {
          "base_uri": "https://localhost:8080/"
        },
        "outputId": "cb5a42ac-1ff8-47fb-f560-17a0d14f48c2"
      },
      "execution_count": 49,
      "outputs": [
        {
          "output_type": "stream",
          "name": "stdout",
          "text": [
            "Drive already mounted at /content/drive; to attempt to forcibly remount, call drive.mount(\"/content/drive\", force_remount=True).\n"
          ]
        }
      ]
    },
    {
      "cell_type": "markdown",
      "metadata": {
        "id": "-Sw4dDVdFxCA"
      },
      "source": [
        ""
      ]
    },
    {
      "cell_type": "markdown",
      "metadata": {
        "id": "dFRSjsvEDu47"
      },
      "source": [
        "## **Importing necessary packages and modules**\n"
      ]
    },
    {
      "cell_type": "code",
      "metadata": {
        "id": "U8iFYJYrGksk"
      },
      "source": [
        "import pandas as pd\n",
        "import keras\n",
        "from keras.models import Sequential\n",
        "from keras.layers import Dense\n",
        "from sklearn.model_selection import train_test_split\n",
        "from sklearn.preprocessing import StandardScaler\n",
        "from sklearn.metrics import r2_score\n",
        "import numpy as np\n"
      ],
      "execution_count": 50,
      "outputs": []
    },
    {
      "cell_type": "markdown",
      "metadata": {
        "id": "T0L9SYb0KOQm"
      },
      "source": [
        "## **Loading data from our data.csv file** "
      ]
    },
    {
      "cell_type": "code",
      "metadata": {
        "id": "-dkYh3-4K5Db",
        "colab": {
          "base_uri": "https://localhost:8080/"
        },
        "outputId": "450e3d90-efa4-4450-ecf3-e3ec6708d15c"
      },
      "source": [
        "url=\"/content/drive/MyDrive/coxbazar-data.csv\"\n",
        "df=pd.read_csv(url)\n",
        "print(df.shape)"
      ],
      "execution_count": 51,
      "outputs": [
        {
          "output_type": "stream",
          "name": "stdout",
          "text": [
            "(71, 5)\n"
          ]
        }
      ]
    },
    {
      "cell_type": "markdown",
      "metadata": {
        "id": "tMgbBqxVLPp1"
      },
      "source": [
        "## **Splitting dataset into input and output columns** "
      ]
    },
    {
      "cell_type": "code",
      "metadata": {
        "id": "fLiEU5k7LUnI",
        "colab": {
          "base_uri": "https://localhost:8080/"
        },
        "outputId": "ad8fbcb7-fc3d-4275-b093-183478cf434b"
      },
      "source": [
        "\n",
        "input_col=df.iloc[:,0:3]\n",
        "output_col=df.iloc[:,3:5]\n",
        "\n",
        "print(output_col)"
      ],
      "execution_count": 72,
      "outputs": [
        {
          "output_type": "stream",
          "name": "stdout",
          "text": [
            "    ll  pl\n",
            "0   40  23\n",
            "1   43  26\n",
            "2   39  21\n",
            "3   62  33\n",
            "4   38  22\n",
            "..  ..  ..\n",
            "66  48  25\n",
            "67  38  21\n",
            "68  45  23\n",
            "69  35  20\n",
            "70  30  16\n",
            "\n",
            "[71 rows x 2 columns]\n"
          ]
        }
      ]
    },
    {
      "cell_type": "markdown",
      "source": [
        "# **Splitting Training and Testing Data**\n"
      ],
      "metadata": {
        "id": "bYrqz44WddL4"
      }
    },
    {
      "cell_type": "code",
      "metadata": {
        "id": "TfFr3fymbWsC"
      },
      "source": [
        "x_train,x_test,y_train,y_test=train_test_split(input_col,output_col,test_size=0.20)"
      ],
      "execution_count": 73,
      "outputs": []
    },
    {
      "cell_type": "markdown",
      "source": [
        ""
      ],
      "metadata": {
        "id": "1T92ZAX5RS5N"
      }
    },
    {
      "cell_type": "markdown",
      "metadata": {
        "id": "YRxcTmKTNP7C"
      },
      "source": [
        "## **Defining and compiling keras model** "
      ]
    },
    {
      "cell_type": "code",
      "metadata": {
        "id": "iY1ImooSN-pU",
        "colab": {
          "base_uri": "https://localhost:8080/"
        },
        "outputId": "e384948c-cbd5-407f-9cac-9309851f892a"
      },
      "source": [
        "\n",
        "#defining layers\n",
        "model = Sequential()\n",
        "model.add(Dense(units=30,kernel_initializer='normal', activation='relu'))\n",
        "model.add(Dense(units=30,kernel_initializer='normal',activation=\"relu\"))\n",
        "model.add(Dense(units=30,kernel_initializer='normal',activation=\"relu\"))\n",
        "model.add(Dense(units=30,kernel_initializer='normal',activation=\"relu\"))\n",
        "model.add(Dense(2,activation=\"linear\"))\n",
        "\n",
        "\n",
        "# Compiling the model\n",
        "model.compile(loss='mean_squared_error', optimizer='adam',metrics=[\"mse\"])\n",
        " \n",
        "model.fit(x_train, y_train ,epochs = 1000, batch_size=60, verbose=0)\n",
        "y_true = np.array(y_test)\n",
        "y_pred = np.array(model.predict(x_test))\n",
        "r2_score(y_true,y_pred)\n"
      ],
      "execution_count": 74,
      "outputs": [
        {
          "output_type": "execute_result",
          "data": {
            "text/plain": [
              "0.6062334710066374"
            ]
          },
          "metadata": {},
          "execution_count": 74
        }
      ]
    },
    {
      "cell_type": "markdown",
      "metadata": {
        "id": "vDCj9ju74-6s"
      },
      "source": [
        "# **Predicting model**\n"
      ]
    },
    {
      "cell_type": "code",
      "metadata": {
        "id": "UykOHdjKdAor",
        "colab": {
          "base_uri": "https://localhost:8080/"
        },
        "outputId": "3168ca7b-72c1-479f-dbd6-65c7c9ce64f5"
      },
      "source": [
        "df=pd.DataFrame()\n",
        "df[\"sand\"]=x_test['sand']\n",
        "df[\"silt\"]=x_test['silt']\n",
        "df[\"clay\"]=x_test['clay']\n",
        "df[\"ll\"]=y_test['ll']\n",
        "df[\"predicted_ll\"]=model.predict(x_test)[:,0]\n",
        "df[\"pl\"]=y_test['pl']\n",
        "df[\"predicted_pl\"]=model.predict(x_test)[:,1]\n",
        "\n",
        "print(df)\n"
      ],
      "execution_count": 76,
      "outputs": [
        {
          "output_type": "stream",
          "name": "stdout",
          "text": [
            "    sand   silt   clay  ll  predicted_ll  pl  predicted_pl\n",
            "6    2.3  60.76  36.95  48     48.325859  27     25.467869\n",
            "70  27.3  49.77  22.94  30     36.133892  16     19.073515\n",
            "63  14.0  36.46  49.54  54     47.587925  20     25.075504\n",
            "22   2.2  56.58  41.22  43     49.625832  24     26.148239\n",
            "57   3.1  62.94  33.96  48     47.130604  24     24.841908\n",
            "45  39.4  40.06  20.54  37     35.429108  16     18.696404\n",
            "23  15.3  52.24  32.45  49     42.022896  24     22.162392\n",
            "51   6.3  82.70  11.00  41     39.136272  23     20.656507\n",
            "11   0.5  48.30  51.20  59     53.232540  30     28.036680\n",
            "31  24.4  38.04  37.56  33     40.067883  23     21.134470\n",
            "26  23.8  54.82  21.39  33     36.529369  22     19.282526\n",
            "41  34.1  55.94   9.96  40     36.735085  22     19.381681\n",
            "8   19.0  41.91  39.09  54     42.582390  25     22.453262\n",
            "65  65.1  26.03   8.87  23     34.505024  15     18.194231\n",
            "62  25.8  62.84  11.37  36     37.240063  20     19.651598\n"
          ]
        }
      ]
    },
    {
      "cell_type": "markdown",
      "source": [
        "**Graphs**\n"
      ],
      "metadata": {
        "id": "3TPWVjxUd8ki"
      }
    },
    {
      "cell_type": "code",
      "source": [
        "import matplotlib.pyplot as plt\n",
        "\n",
        "fig1,sand=plt.subplots()\n",
        "sand.scatter(df['sand'],df['ll'])\n",
        "sand.scatter(df['sand'],df['predicted_ll'])\n",
        "sand.legend((\"Actual LL\",\"Predicted LL\"))\n",
        "sand.set_xlabel(\"% Sand\")\n",
        "sand.set_ylabel(\"Liquid Limit\")\n",
        "\n",
        "fig2,silt=plt.subplots()\n",
        "silt.scatter(df['silt'],df['ll'])\n",
        "silt.scatter(df['silt'],df['predicted_ll'])\n",
        "silt.legend((\"Actual LL\",\"Predicted LL\"))\n",
        "silt.set_xlabel(\"% Silt\")\n",
        "silt.set_ylabel(\"Liquid Limit\")\n",
        "\n",
        "fig3,clay=plt.subplots()\n",
        "clay.scatter(df['clay'],df['ll'])\n",
        "clay.scatter(df['clay'],df['predicted_ll'])\n",
        "clay.legend((\"Actual LL\",\"Predicted LL\"))\n",
        "clay.set_xlabel(\"% Clay\")\n",
        "clay.set_ylabel(\"Liquid Limit\")\n",
        "\n",
        "\n",
        "# Plastic Limit\n",
        "fig1,sand=plt.subplots()\n",
        "sand.scatter(df['sand'],df['pl'])\n",
        "sand.scatter(df['sand'],df['predicted_pl'])\n",
        "sand.legend((\"Actual PL\",\"Predicted PL\"))\n",
        "sand.set_xlabel(\"% Sand\")\n",
        "sand.set_ylabel(\"Plastic Limit\")\n",
        "\n",
        "fig2,silt=plt.subplots()\n",
        "silt.scatter(df['silt'],df['pl'])\n",
        "silt.scatter(df['silt'],df['predicted_pl'])\n",
        "silt.legend((\"Actual PL\",\"Predicted PL\"))\n",
        "silt.set_xlabel(\"% Silt\")\n",
        "silt.set_ylabel(\"Plastic Limit\")\n",
        "\n",
        "fig3,clay=plt.subplots()\n",
        "clay.scatter(df['clay'],df['pl'])\n",
        "clay.scatter(df['clay'],df['predicted_pl'])\n",
        "clay.legend((\"Actual PL\",\"Predicted PL\"))\n",
        "clay.set_xlabel(\"% Clay\")\n",
        "clay.set_ylabel(\"Plastic Limit\")\n",
        "\n",
        "\n"
      ],
      "metadata": {
        "id": "OhxWvKaarH-5",
        "colab": {
          "base_uri": "https://localhost:8080/",
          "height": 1000
        },
        "outputId": "99c8d8c9-5007-447f-a3b9-f267b463bcc8"
      },
      "execution_count": 78,
      "outputs": [
        {
          "output_type": "execute_result",
          "data": {
            "text/plain": [
              "Text(0, 0.5, 'Plastic Limit')"
            ]
          },
          "metadata": {},
          "execution_count": 78
        },
        {
          "output_type": "display_data",
          "data": {
            "image/png": "[encoded data removed]",
            "text/plain": [
              "<Figure size 432x288 with 1 Axes>"
            ]
          },
          "metadata": {
            "needs_background": "light"
          }
        },
        {
          "output_type": "display_data",
          "data": {
            "image/png": "[encoded data removed]",
            "text/plain": [
              "<Figure size 432x288 with 1 Axes>"
            ]
          },
          "metadata": {
            "needs_background": "light"
          }
        },
        {
          "output_type": "display_data",
          "data": {
            "image/png": "[encoded data removed]",
            "text/plain": [
              "<Figure size 432x288 with 1 Axes>"
            ]
          },
          "metadata": {
            "needs_background": "light"
          }
        },
        {
          "output_type": "display_data",
          "data": {
            "image/png": "[encoded data removed]",
            "text/plain": [
              "<Figure size 432x288 with 1 Axes>"
            ]
          },
          "metadata": {
            "needs_background": "light"
          }
        },
        {
          "output_type": "display_data",
          "data": {
            "image/png": "[encoded data removed]",
            "text/plain": [
              "<Figure size 432x288 with 1 Axes>"
            ]
          },
          "metadata": {
            "needs_background": "light"
          }
        },
        {
          "output_type": "display_data",
          "data": {
            "image/png": "[encoded data removed]",
            "text/plain": [
              "<Figure size 432x288 with 1 Axes>"
            ]
          },
          "metadata": {
            "needs_background": "light"
          }
        }
      ]
    }
  ]
}