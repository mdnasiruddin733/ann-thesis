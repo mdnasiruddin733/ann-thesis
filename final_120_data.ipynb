{
  "nbformat": 4,
  "nbformat_minor": 0,
  "metadata": {
    "colab": {
      "name": "ann-model-for-coxbazzar-data.ipynb",
      "provenance": [],
      "collapsed_sections": [],
      "mount_file_id": "1qunUKU7VAGrDHWcsSqKJRMzoznttQmsA",
      "authorship_tag": "ABX9TyMSQaUVE33muuNKH7X5maAp",
      "include_colab_link": true
    },
    "kernelspec": {
      "name": "python3",
      "display_name": "Python 3"
    },
    "language_info": {
      "name": "python"
    }
  },
  "cells": [
    {
      "cell_type": "markdown",
      "metadata": {
        "id": "view-in-github",
        "colab_type": "text"
      },
      "source": [
        "<a href=\"https://colab.research.google.com/github/mdnasiruddin733/ann-thesis/blob/main/final_120_data.ipynb\" target=\"_parent\"><img src=\"https://colab.research.google.com/assets/colab-badge.svg\" alt=\"Open In Colab\"/></a>"
      ]
    },
    {
      "cell_type": "markdown",
      "metadata": {
        "id": "olHkm872Eau4"
      },
      "source": [
        "# **Steps to be follwed:**\n",
        "> \n",
        "\n",
        "*   Import necessary packages\n",
        "*   Load Data\n",
        "*   Define Keras Model\n",
        "*   Compile Keras Model\n",
        "*   Fit Keras Model\n",
        "*   Evaluate Keras Model\n",
        "*   Make Predictions\n",
        "\n",
        "\n",
        "\n",
        "\n",
        "\n",
        "\n",
        "\n",
        "\n",
        "\n",
        "\n",
        "\n",
        "\n",
        "\n",
        "\n",
        "\n",
        "\n"
      ]
    },
    {
      "cell_type": "code",
      "source": [
        "from google.colab import drive\n",
        "drive.mount('/content/drive')"
      ],
      "metadata": {
        "id": "qjVxBgR4J42K",
        "colab": {
          "base_uri": "https://localhost:8080/"
        },
        "outputId": "75fd2c7e-ed67-41a2-90cd-ad57ce015976"
      },
      "execution_count": 224,
      "outputs": [
        {
          "output_type": "stream",
          "name": "stdout",
          "text": [
            "Drive already mounted at /content/drive; to attempt to forcibly remount, call drive.mount(\"/content/drive\", force_remount=True).\n"
          ]
        }
      ]
    },
    {
      "cell_type": "markdown",
      "metadata": {
        "id": "-Sw4dDVdFxCA"
      },
      "source": [
        ""
      ]
    },
    {
      "cell_type": "markdown",
      "metadata": {
        "id": "dFRSjsvEDu47"
      },
      "source": [
        "## **Importing necessary packages and modules**\n"
      ]
    },
    {
      "cell_type": "code",
      "metadata": {
        "id": "U8iFYJYrGksk"
      },
      "source": [
        "import pandas as pd\n",
        "import keras\n",
        "from keras.models import Sequential\n",
        "from keras.layers import Dense\n",
        "from sklearn.model_selection import train_test_split\n",
        "from sklearn.preprocessing import StandardScaler\n",
        "import numpy as np\n"
      ],
      "execution_count": 225,
      "outputs": []
    },
    {
      "cell_type": "markdown",
      "metadata": {
        "id": "T0L9SYb0KOQm"
      },
      "source": [
        "## **Loading data from our data.csv file** "
      ]
    },
    {
      "cell_type": "code",
      "metadata": {
        "id": "-dkYh3-4K5Db",
        "colab": {
          "base_uri": "https://localhost:8080/"
        },
        "outputId": "4a2ca7d7-7dcc-4e7f-f108-20dde2db4ec0"
      },
      "source": [
        "url=\"/content/drive/MyDrive/datasets/data.csv\"\n",
        "df=pd.read_csv(url)\n",
        "print(df)"
      ],
      "execution_count": 226,
      "outputs": [
        {
          "output_type": "stream",
          "name": "stdout",
          "text": [
            "     sand   silt   clay  ll  pl\n",
            "0    11.1  66.33  22.58  31  20\n",
            "1     7.3  70.17  22.52  36  24\n",
            "2    11.1  64.04  24.87  38  23\n",
            "3     1.6  79.00  19.39  39  28\n",
            "4     7.3  71.07  21.63  37  25\n",
            "..    ...    ...    ...  ..  ..\n",
            "115  48.8  44.07   7.13  48  25\n",
            "116   2.6  63.52  33.88  38  21\n",
            "117   3.0  73.42  23.58  45  23\n",
            "118  20.6  64.57  14.82  35  20\n",
            "119  27.3  49.77  22.94  30  16\n",
            "\n",
            "[120 rows x 5 columns]\n"
          ]
        }
      ]
    },
    {
      "cell_type": "markdown",
      "metadata": {
        "id": "tMgbBqxVLPp1"
      },
      "source": [
        "## **Splitting dataset into input and output columns** "
      ]
    },
    {
      "cell_type": "code",
      "metadata": {
        "id": "fLiEU5k7LUnI",
        "colab": {
          "base_uri": "https://localhost:8080/"
        },
        "outputId": "40dc4d44-7563-409d-f93c-40823eea9b68"
      },
      "source": [
        "\n",
        "input_col=df.iloc[:,0:3]\n",
        "output_col=df.iloc[:,3:5]\n",
        "\n",
        "print(output_col)"
      ],
      "execution_count": 227,
      "outputs": [
        {
          "output_type": "stream",
          "name": "stdout",
          "text": [
            "     ll  pl\n",
            "0    31  20\n",
            "1    36  24\n",
            "2    38  23\n",
            "3    39  28\n",
            "4    37  25\n",
            "..   ..  ..\n",
            "115  48  25\n",
            "116  38  21\n",
            "117  45  23\n",
            "118  35  20\n",
            "119  30  16\n",
            "\n",
            "[120 rows x 2 columns]\n"
          ]
        }
      ]
    },
    {
      "cell_type": "markdown",
      "source": [
        "# **Splitting Training and Testing Data**\n"
      ],
      "metadata": {
        "id": "bYrqz44WddL4"
      }
    },
    {
      "cell_type": "code",
      "metadata": {
        "id": "TfFr3fymbWsC"
      },
      "source": [
        "x_train,x_test,y_train,y_test=train_test_split(input_col,output_col,test_size=0.20)"
      ],
      "execution_count": 228,
      "outputs": []
    },
    {
      "cell_type": "markdown",
      "source": [
        ""
      ],
      "metadata": {
        "id": "1T92ZAX5RS5N"
      }
    },
    {
      "cell_type": "markdown",
      "metadata": {
        "id": "YRxcTmKTNP7C"
      },
      "source": [
        "## **Defining and compiling keras model** "
      ]
    },
    {
      "cell_type": "code",
      "metadata": {
        "id": "iY1ImooSN-pU"
      },
      "source": [
        "\n",
        "#defining layers\n",
        "model = Sequential()\n",
        "model.add(Dense(units=5,kernel_initializer='normal', activation='relu'))\n",
        "model.add(Dense(units=5,kernel_initializer='normal', activation='relu'))\n",
        "model.add(Dense(units=5,kernel_initializer='normal', activation='relu'))\n",
        "model.add(Dense(units=5,kernel_initializer='normal', activation='relu'))\n",
        "model.add(Dense(2,activation=\"linear\"))\n",
        "\n",
        "\n",
        "# Compiling the model\n",
        "model.compile(loss='mean_squared_error', optimizer='adam',metrics=[\"mse\"])\n",
        " \n",
        "model.fit(x_train, y_train ,epochs = 200, batch_size=20, verbose=0)\n",
        "y_true = np.array(y_test)\n",
        "y_pred = np.array(model.predict(x_test))\n",
        "\n"
      ],
      "execution_count": 243,
      "outputs": []
    },
    {
      "cell_type": "code",
      "source": [
        "SSE=np.sum((y_test-y_pred)**2)\n",
        "SST=np.sum((y_test-np.mean(y_test))**2)\n",
        "r_squared=1-(SSE/SST)\n",
        "print(r_squared)\n",
        "\n"
      ],
      "metadata": {
        "colab": {
          "base_uri": "https://localhost:8080/"
        },
        "id": "CqxvhuqeO9LF",
        "outputId": "7e89f28a-368f-45c9-e052-761c4ae79906"
      },
      "execution_count": 244,
      "outputs": [
        {
          "output_type": "stream",
          "name": "stdout",
          "text": [
            "ll    0.552426\n",
            "pl    0.372379\n",
            "dtype: float64\n"
          ]
        }
      ]
    },
    {
      "cell_type": "markdown",
      "metadata": {
        "id": "vDCj9ju74-6s"
      },
      "source": [
        "# **Predicting model**\n"
      ]
    },
    {
      "cell_type": "code",
      "metadata": {
        "id": "UykOHdjKdAor",
        "colab": {
          "base_uri": "https://localhost:8080/"
        },
        "outputId": "ced7ea8c-e3ad-4b13-ceb4-9ee6e7ccc24e"
      },
      "source": [
        "df2=pd.DataFrame()\n",
        "df2[\"sand\"]=x_test['sand']\n",
        "df2[\"silt\"]=x_test['silt']\n",
        "df2[\"clay\"]=x_test['clay']\n",
        "df2[\"ll\"]=y_test['ll']\n",
        "df2[\"predicted_ll\"]=y_pred[:,0]\n",
        "df2[\"pl\"]=y_test['pl']\n",
        "df2[\"predicted_pl\"]=y_pred[:,1]\n",
        "\n",
        "print(df2)\n"
      ],
      "execution_count": 231,
      "outputs": [
        {
          "output_type": "stream",
          "name": "stdout",
          "text": [
            "     sand   silt   clay  ll  predicted_ll  pl  predicted_pl\n",
            "22    3.0  57.50  39.49  44     44.765385  23     25.034437\n",
            "48    8.1  53.53  38.37  44     43.206944  19     24.162802\n",
            "45    8.3  54.14  37.56  34     42.975292  19     24.033401\n",
            "13    2.9  76.00  21.10  37     41.042973  26     22.959158\n",
            "94   34.1  55.94   9.96  40     31.797024  22     17.789890\n",
            "72    4.4  45.54  50.06  53     46.759640  26     26.147476\n",
            "40    9.0  66.04  24.96  43     39.992477  23     22.367798\n",
            "78    1.5  48.03  50.47  44     47.597374  26     26.616070\n",
            "63    2.0  48.16  49.84  56     47.328533  31     26.465820\n",
            "47    1.2  41.67  57.13  55     49.155991  27     27.486380\n",
            "86    2.4  55.39  42.21  48     45.528419  23     25.460644\n",
            "15    1.9  72.29  25.81  37     42.245346  26     23.629862\n",
            "79   20.7  58.34  20.96  31     36.090847  20     20.185919\n",
            "114  65.1  26.03   8.87  23     29.675573  15     16.632961\n",
            "92   22.5  57.03  20.47  30     35.518482  21     19.865816\n",
            "87    1.1  49.61  49.29  52     47.437885  22     26.527142\n",
            "61    8.0  65.80  26.20  38     40.525715  22     22.665819\n",
            "75    3.4  45.20  51.40  46     47.315128  25     26.457916\n",
            "26    2.0  80.19  17.81  38     40.675892  27     22.755657\n",
            "23    2.5  69.25  28.25  39     42.537544  22     23.791969\n",
            "90    1.6  77.00  21.41  37     41.490826  24     23.209959\n",
            "17    2.2  69.42  28.39  37     42.656910  24     23.858768\n",
            "95    2.8  62.13  35.08  54     43.843090  26     24.519556\n",
            "81    6.9  56.56  36.54  53     43.108818  26     24.108370\n"
          ]
        }
      ]
    },
    {
      "cell_type": "markdown",
      "source": [
        "**Graphs**\n"
      ],
      "metadata": {
        "id": "3TPWVjxUd8ki"
      }
    },
    {
      "cell_type": "code",
      "source": [
        "import matplotlib.pyplot as plt\n",
        "\n",
        "fig1,sand=plt.subplots()\n",
        "sand.scatter(df2['sand'],df2['ll'])\n",
        "sand.scatter(df2['sand'],df2['predicted_ll'])\n",
        "sand.legend((\"Actual LL\",\"Predicted LL\"))\n",
        "sand.set_xlabel(\"% Sand\")\n",
        "sand.set_ylabel(\"Liquid Limit\")\n",
        "\n",
        "fig2,silt=plt.subplots()\n",
        "silt.scatter(df2['silt'],df2['ll'])\n",
        "silt.scatter(df2['silt'],df2['predicted_ll'])\n",
        "silt.legend((\"Actual LL\",\"Predicted LL\"))\n",
        "silt.set_xlabel(\"% Silt\")\n",
        "silt.set_ylabel(\"Liquid Limit\")\n",
        "\n",
        "fig3,clay=plt.subplots()\n",
        "clay.scatter(df2['clay'],df2['ll'])\n",
        "clay.scatter(df2['clay'],df2['predicted_ll'])\n",
        "clay.legend((\"Actual LL\",\"Predicted LL\"))\n",
        "clay.set_xlabel(\"% Clay\")\n",
        "clay.set_ylabel(\"Liquid Limit\")\n",
        "\n",
        "\n",
        "# Plastic Limit\n",
        "fig1,sand=plt.subplots()\n",
        "sand.scatter(df2['sand'],df2['pl'])\n",
        "sand.scatter(df2['sand'],df2['predicted_pl'])\n",
        "sand.legend((\"Actual PL\",\"Predicted PL\"))\n",
        "sand.set_xlabel(\"% Sand\")\n",
        "sand.set_ylabel(\"Plastic Limit\")\n",
        "\n",
        "fig2,silt=plt.subplots()\n",
        "silt.scatter(df2['silt'],df2['pl'])\n",
        "silt.scatter(df2['silt'],df2['predicted_pl'])\n",
        "silt.legend((\"Actual PL\",\"Predicted PL\"))\n",
        "silt.set_xlabel(\"% Silt\")\n",
        "silt.set_ylabel(\"Plastic Limit\")\n",
        "\n",
        "fig3,clay=plt.subplots()\n",
        "clay.scatter(df2['clay'],df2['pl'])\n",
        "clay.scatter(df2['clay'],df2['predicted_pl'])\n",
        "clay.legend((\"Actual PL\",\"Predicted PL\"))\n",
        "clay.set_xlabel(\"% Clay\")\n",
        "clay.set_ylabel(\"Plastic Limit\")\n",
        "\n",
        "\n"
      ],
      "metadata": {
        "id": "OhxWvKaarH-5",
        "colab": {
          "base_uri": "https://localhost:8080/",
          "height": 1000
        },
        "outputId": "969826a7-e69c-4525-ec67-95edc409b6ee"
      },
      "execution_count": 232,
      "outputs": [
        {
          "output_type": "execute_result",
          "data": {
            "text/plain": [
              "Text(0, 0.5, 'Plastic Limit')"
            ]
          },
          "metadata": {},
          "execution_count": 232
        },
        {
          "output_type": "display_data",
          "data": {
            "image/png": "[encoded data removed]",
            "text/plain": [
              "<Figure size 432x288 with 1 Axes>"
            ]
          },
          "metadata": {
            "needs_background": "light"
          }
        },
        {
          "output_type": "display_data",
          "data": {
            "image/png": "[encoded data removed]",
            "text/plain": [
              "<Figure size 432x288 with 1 Axes>"
            ]
          },
          "metadata": {
            "needs_background": "light"
          }
        },
        {
          "output_type": "display_data",
          "data": {
            "image/png": "[encoded data removed]",
            "text/plain": [
              "<Figure size 432x288 with 1 Axes>"
            ]
          },
          "metadata": {
            "needs_background": "light"
          }
        },
        {
          "output_type": "display_data",
          "data": {
            "image/png": "[encoded data removed]",
            "text/plain": [
              "<Figure size 432x288 with 1 Axes>"
            ]
          },
          "metadata": {
            "needs_background": "light"
          }
        },
        {
          "output_type": "display_data",
          "data": {
            "image/png": "[encoded data removed]",
            "text/plain": [
              "<Figure size 432x288 with 1 Axes>"
            ]
          },
          "metadata": {
            "needs_background": "light"
          }
        },
        {
          "output_type": "display_data",
          "data": {
            "image/png": "[encoded data removed]",
            "text/plain": [
              "<Figure size 432x288 with 1 Axes>"
            ]
          },
          "metadata": {
            "needs_background": "light"
          }
        }
      ]
    }
  ]
}