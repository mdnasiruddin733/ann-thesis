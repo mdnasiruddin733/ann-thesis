{
  "nbformat": 4,
  "nbformat_minor": 0,
  "metadata": {
    "colab": {
      "name": "final_model.ipynb",
      "provenance": [],
      "collapsed_sections": [],
      "mount_file_id": "1qunUKU7VAGrDHWcsSqKJRMzoznttQmsA",
      "authorship_tag": "ABX9TyNoPNbxTYQmvvzEfD5zhI21",
      "include_colab_link": true
    },
    "kernelspec": {
      "name": "python3",
      "display_name": "Python 3"
    },
    "language_info": {
      "name": "python"
    }
  },
  "cells": [
    {
      "cell_type": "markdown",
      "metadata": {
        "id": "view-in-github",
        "colab_type": "text"
      },
      "source": [
        "<a href=\"https://colab.research.google.com/github/mdnasiruddin733/ann-thesis/blob/main/final_model.ipynb\" target=\"_parent\"><img src=\"https://colab.research.google.com/assets/colab-badge.svg\" alt=\"Open In Colab\"/></a>"
      ]
    },
    {
      "cell_type": "markdown",
      "metadata": {
        "id": "olHkm872Eau4"
      },
      "source": [
        "# **Steps to be follwed:**\n",
        "> \n",
        "\n",
        "*   Import necessary packages\n",
        "*   Load Data\n",
        "*   Define Keras Model\n",
        "*   Compile Keras Model\n",
        "*   Fit Keras Model\n",
        "*   Evaluate Keras Model\n",
        "*   Make Predictions\n",
        "\n",
        "\n",
        "\n",
        "\n",
        "\n",
        "\n",
        "\n",
        "\n",
        "\n",
        "\n",
        "\n",
        "\n",
        "\n",
        "\n",
        "\n",
        "\n"
      ]
    },
    {
      "cell_type": "code",
      "source": [
        "from google.colab import drive\n",
        "drive.mount('/content/drive')"
      ],
      "metadata": {
        "id": "qjVxBgR4J42K",
        "colab": {
          "base_uri": "https://localhost:8080/"
        },
        "outputId": "21e3e753-2050-4fea-a20c-88645651f2aa"
      },
      "execution_count": null,
      "outputs": [
        {
          "output_type": "stream",
          "name": "stdout",
          "text": [
            "Drive already mounted at /content/drive; to attempt to forcibly remount, call drive.mount(\"/content/drive\", force_remount=True).\n"
          ]
        }
      ]
    },
    {
      "cell_type": "markdown",
      "metadata": {
        "id": "-Sw4dDVdFxCA"
      },
      "source": [
        ""
      ]
    },
    {
      "cell_type": "markdown",
      "metadata": {
        "id": "dFRSjsvEDu47"
      },
      "source": [
        "## **Importing necessary packages and modules**\n"
      ]
    },
    {
      "cell_type": "code",
      "metadata": {
        "id": "U8iFYJYrGksk"
      },
      "source": [
        "import pandas as pd\n",
        "import keras\n",
        "from keras.models import Sequential\n",
        "from keras.layers import Dense\n",
        "from sklearn.model_selection import train_test_split\n",
        "from sklearn.preprocessing import StandardScaler\n",
        "import numpy as np\n"
      ],
      "execution_count": null,
      "outputs": []
    },
    {
      "cell_type": "markdown",
      "metadata": {
        "id": "T0L9SYb0KOQm"
      },
      "source": [
        "## **Loading data from our data.csv file** "
      ]
    },
    {
      "cell_type": "code",
      "metadata": {
        "id": "-dkYh3-4K5Db",
        "colab": {
          "base_uri": "https://localhost:8080/"
        },
        "outputId": "ce0c83c7-fcf6-43ba-9dcf-f5f7b46009ae"
      },
      "source": [
        "url=\"/content/drive/MyDrive/datasets/data.csv\"\n",
        "df=pd.read_csv(url)\n",
        "print(df)"
      ],
      "execution_count": null,
      "outputs": [
        {
          "output_type": "stream",
          "name": "stdout",
          "text": [
            "     sand   silt   clay  ll  pl\n",
            "0     5.0  59.04  35.96  34  21\n",
            "1    11.1  66.33  22.58  31  20\n",
            "2     7.3  70.17  22.52  36  24\n",
            "3    11.1  64.04  24.87  38  23\n",
            "4     1.6  79.00  19.39  39  28\n",
            "..    ...    ...    ...  ..  ..\n",
            "123  65.1  26.03   8.87  23  15\n",
            "124   2.6  63.52  33.88  38  21\n",
            "125   3.0  73.42  23.58  45  23\n",
            "126  20.6  64.57  14.82  35  20\n",
            "127  27.3  49.77  22.94  30  16\n",
            "\n",
            "[128 rows x 5 columns]\n"
          ]
        }
      ]
    },
    {
      "cell_type": "markdown",
      "metadata": {
        "id": "tMgbBqxVLPp1"
      },
      "source": [
        "## **Splitting dataset into input and output columns** "
      ]
    },
    {
      "cell_type": "code",
      "metadata": {
        "id": "fLiEU5k7LUnI",
        "colab": {
          "base_uri": "https://localhost:8080/"
        },
        "outputId": "f5bac1d9-24f9-4883-d201-d1b4c614b165"
      },
      "source": [
        "\n",
        "input_col=df.iloc[:,0:3]\n",
        "output_col=df.iloc[:,3:5]\n",
        "\n",
        "print(output_col)"
      ],
      "execution_count": null,
      "outputs": [
        {
          "output_type": "stream",
          "name": "stdout",
          "text": [
            "     ll  pl\n",
            "0    34  21\n",
            "1    31  20\n",
            "2    36  24\n",
            "3    38  23\n",
            "4    39  28\n",
            "..   ..  ..\n",
            "123  23  15\n",
            "124  38  21\n",
            "125  45  23\n",
            "126  35  20\n",
            "127  30  16\n",
            "\n",
            "[128 rows x 2 columns]\n"
          ]
        }
      ]
    },
    {
      "cell_type": "markdown",
      "source": [
        "# **Splitting Training and Testing Data**\n"
      ],
      "metadata": {
        "id": "bYrqz44WddL4"
      }
    },
    {
      "cell_type": "code",
      "metadata": {
        "id": "TfFr3fymbWsC"
      },
      "source": [
        "x_train,x_test,y_train,y_test=train_test_split(input_col,output_col,test_size=0.20)"
      ],
      "execution_count": null,
      "outputs": []
    },
    {
      "cell_type": "markdown",
      "source": [
        ""
      ],
      "metadata": {
        "id": "1T92ZAX5RS5N"
      }
    },
    {
      "cell_type": "markdown",
      "metadata": {
        "id": "YRxcTmKTNP7C"
      },
      "source": [
        "## **Defining and compiling keras model** "
      ]
    },
    {
      "cell_type": "code",
      "metadata": {
        "id": "iY1ImooSN-pU"
      },
      "source": [
        "\n",
        "#defining layers\n",
        "model = Sequential()\n",
        "model.add(Dense(units=15,kernel_initializer='normal', activation='relu'))\n",
        "model.add(Dense(units=15,kernel_initializer='normal', activation='relu'))\n",
        "model.add(Dense(units=15,kernel_initializer='normal', activation='relu'))\n",
        "model.add(Dense(units=15,kernel_initializer='normal', activation='relu'))\n",
        "model.add(Dense(2,activation=\"linear\"))\n",
        "\n",
        "\n",
        "# Compiling the model\n",
        "model.compile(loss='mean_squared_error', optimizer='adam',metrics=[\"mse\"])\n",
        " \n",
        "model.fit(x_train, y_train ,epochs = 400, batch_size=20, verbose=0)\n",
        "y_true = np.array(y_test)\n",
        "y_pred = np.array(model.predict(x_test))\n",
        "\n"
      ],
      "execution_count": null,
      "outputs": []
    },
    {
      "cell_type": "code",
      "source": [
        "SSE=np.sum((y_test-y_pred)**2)\n",
        "SST=np.sum((y_test-np.mean(y_pred))**2)\n",
        "r_squared=1-(SSE/SST)\n",
        "print(r_squared)\n",
        "print((y_test-y_pred))"
      ],
      "metadata": {
        "colab": {
          "base_uri": "https://localhost:8080/"
        },
        "id": "CqxvhuqeO9LF",
        "outputId": "4bdf9cf3-331b-4251-db67-00a69e82ef58"
      },
      "execution_count": null,
      "outputs": [
        {
          "output_type": "stream",
          "name": "stdout",
          "text": [
            "ll    0.816686\n",
            "pl    0.916004\n",
            "dtype: float64\n",
            "            ll        pl\n",
            "67   -2.822968 -3.738543\n",
            "93    2.885643 -0.735754\n",
            "23    0.631912  0.442776\n",
            "49    0.077599 -2.949772\n",
            "30   -2.593313  1.713890\n",
            "87   -8.179340 -2.469110\n",
            "6    -9.541183 -4.744078\n",
            "18   -5.155121  2.941959\n",
            "43   -8.166981 -4.382778\n",
            "64   -6.384842 -3.805073\n",
            "63   -2.585056  1.090559\n",
            "5    -2.461861  3.394657\n",
            "89   -3.292007  2.102270\n",
            "66   -3.175228 -0.530378\n",
            "121   4.526302 -7.011236\n",
            "55    1.638126  3.605637\n",
            "34   -1.250343 -1.109823\n",
            "106   3.520351  3.306776\n",
            "92   -2.267303 -3.834866\n",
            "17   12.864380  5.713720\n",
            "13    8.843346  0.781897\n",
            "116   2.780296 -0.712580\n",
            "39   -4.458702 -5.920874\n",
            "71   -1.355442  0.054745\n",
            "73    5.890385  1.964190\n",
            "31   -3.529854 -0.260834\n"
          ]
        }
      ]
    },
    {
      "cell_type": "markdown",
      "metadata": {
        "id": "vDCj9ju74-6s"
      },
      "source": [
        "# **Predicting model**\n"
      ]
    },
    {
      "cell_type": "code",
      "metadata": {
        "id": "UykOHdjKdAor",
        "colab": {
          "base_uri": "https://localhost:8080/"
        },
        "outputId": "3bc6ed98-dbb3-47a3-a6a7-9817ef19720b"
      },
      "source": [
        "df=pd.DataFrame()\n",
        "df[\"sand\"]=x_test['sand']\n",
        "df[\"silt\"]=x_test['silt']\n",
        "df[\"clay\"]=x_test['clay']\n",
        "df[\"ll\"]=y_test['ll']\n",
        "df[\"predicted_ll\"]=model.predict(x_test)[:,0]\n",
        "df[\"pl\"]=y_test['pl']\n",
        "df[\"predicted_pl\"]=model.predict(x_test)[:,1]\n",
        "\n",
        "print(df)\n"
      ],
      "execution_count": null,
      "outputs": [
        {
          "output_type": "stream",
          "name": "stdout",
          "text": [
            "     sand   silt   clay  ll  predicted_ll  pl  predicted_pl\n",
            "67    9.1  40.28  50.62  48     50.822968  24     27.738543\n",
            "93    5.1  55.32  39.58  50     47.114357  25     25.735754\n",
            "23   19.1  54.05  26.85  40     39.368088  22     21.557224\n",
            "49    1.2  41.67  57.13  55     54.922401  27     29.949772\n",
            "30   44.5  41.14  14.36  27     29.593313  18     16.286110\n",
            "87    1.5  48.03  50.47  44     52.179340  26     28.469110\n",
            "6     1.6  42.03  56.37  45     54.541183  25     29.744078\n",
            "18    1.9  72.29  25.81  37     42.155121  26     23.058041\n",
            "43    1.3  53.31  45.39  42     50.166981  23     27.382778\n",
            "64   18.9  39.43  41.67  39     45.384842  21     24.805073\n",
            "63    1.4  64.52  34.08  43     45.585056  26     24.909441\n",
            "5     7.3  71.07  21.63  37     39.461861  25     21.605343\n",
            "89   23.8  54.82  21.39  33     36.292007  22     19.897730\n",
            "66    8.0  65.80  26.20  38     41.175228  22     22.530378\n",
            "121  14.0  36.46  49.54  54     49.473698  20     27.011236\n",
            "55   17.8  65.88  16.32  37     35.361874  23     19.394363\n",
            "34    3.7  69.44  26.87  41     42.250343  22     23.109823\n",
            "106   1.0  75.28  23.72  45     41.479649  26     22.693224\n",
            "92    0.6  29.30  70.10  58     60.267303  29     32.834866\n",
            "17    1.5  58.07  40.44  61     48.135620  32     26.286280\n",
            "13    1.9  62.39  35.72  55     46.156654  26     25.218103\n",
            "116   3.1  62.94  33.96  48     45.219704  24     24.712580\n",
            "39    1.5  59.73  38.77  43     47.458702  20     25.920874\n",
            "71    3.9  51.52  44.58  48     49.355442  27     26.945255\n",
            "73   12.9  56.32  30.78  48     42.109615  25     23.035810\n",
            "31    4.3  67.87  27.84  39     42.529854  23     23.260834\n"
          ]
        }
      ]
    },
    {
      "cell_type": "markdown",
      "source": [
        "**Graphs**\n"
      ],
      "metadata": {
        "id": "3TPWVjxUd8ki"
      }
    },
    {
      "cell_type": "code",
      "source": [
        "import matplotlib.pyplot as plt\n",
        "\n",
        "fig1,sand=plt.subplots()\n",
        "sand.scatter(df['sand'],df['ll'])\n",
        "sand.scatter(df['sand'],df['predicted_ll'])\n",
        "sand.legend((\"Actual LL\",\"Predicted LL\"))\n",
        "sand.set_xlabel(\"% Sand\")\n",
        "sand.set_ylabel(\"Liquid Limit\")\n",
        "\n",
        "fig2,silt=plt.subplots()\n",
        "silt.scatter(df['silt'],df['ll'])\n",
        "silt.scatter(df['silt'],df['predicted_ll'])\n",
        "silt.legend((\"Actual LL\",\"Predicted LL\"))\n",
        "silt.set_xlabel(\"% Silt\")\n",
        "silt.set_ylabel(\"Liquid Limit\")\n",
        "\n",
        "fig3,clay=plt.subplots()\n",
        "clay.scatter(df['clay'],df['ll'])\n",
        "clay.scatter(df['clay'],df['predicted_ll'])\n",
        "clay.legend((\"Actual LL\",\"Predicted LL\"))\n",
        "clay.set_xlabel(\"% Clay\")\n",
        "clay.set_ylabel(\"Liquid Limit\")\n",
        "\n",
        "\n",
        "# Plastic Limit\n",
        "fig1,sand=plt.subplots()\n",
        "sand.scatter(df['sand'],df['pl'])\n",
        "sand.scatter(df['sand'],df['predicted_pl'])\n",
        "sand.legend((\"Actual PL\",\"Predicted PL\"))\n",
        "sand.set_xlabel(\"% Sand\")\n",
        "sand.set_ylabel(\"Plastic Limit\")\n",
        "\n",
        "fig2,silt=plt.subplots()\n",
        "silt.scatter(df['silt'],df['pl'])\n",
        "silt.scatter(df['silt'],df['predicted_pl'])\n",
        "silt.legend((\"Actual PL\",\"Predicted PL\"))\n",
        "silt.set_xlabel(\"% Silt\")\n",
        "silt.set_ylabel(\"Plastic Limit\")\n",
        "\n",
        "fig3,clay=plt.subplots()\n",
        "clay.scatter(df['clay'],df['pl'])\n",
        "clay.scatter(df['clay'],df['predicted_pl'])\n",
        "clay.legend((\"Actual PL\",\"Predicted PL\"))\n",
        "clay.set_xlabel(\"% Clay\")\n",
        "clay.set_ylabel(\"Plastic Limit\")\n",
        "\n",
        "\n"
      ],
      "metadata": {
        "id": "OhxWvKaarH-5",
        "colab": {
          "base_uri": "https://localhost:8080/",
          "height": 1000
        },
        "outputId": "764ef8e1-6f34-4c80-f21a-c5fee0982283"
      },
      "execution_count": null,
      "outputs": [
        {
          "output_type": "execute_result",
          "data": {
            "text/plain": [
              "Text(0, 0.5, 'Plastic Limit')"
            ]
          },
          "metadata": {},
          "execution_count": 59
        },
        {
          "output_type": "display_data",
          "data": {
            "image/png": "[encoded data removed]",
            "text/plain": [
              "<Figure size 432x288 with 1 Axes>"
            ]
          },
          "metadata": {
            "needs_background": "light"
          }
        },
        {
          "output_type": "display_data",
          "data": {
            "image/png": "[encoded data removed]",
            "text/plain": [
              "<Figure size 432x288 with 1 Axes>"
            ]
          },
          "metadata": {
            "needs_background": "light"
          }
        },
        {
          "output_type": "display_data",
          "data": {
            "image/png": "[encoded data removed]",
            "text/plain": [
              "<Figure size 432x288 with 1 Axes>"
            ]
          },
          "metadata": {
            "needs_background": "light"
          }
        },
        {
          "output_type": "display_data",
          "data": {
            "image/png": "[encoded data removed]",
            "text/plain": [
              "<Figure size 432x288 with 1 Axes>"
            ]
          },
          "metadata": {
            "needs_background": "light"
          }
        },
        {
          "output_type": "display_data",
          "data": {
            "image/png": "[encoded data removed]",
            "text/plain": [
              "<Figure size 432x288 with 1 Axes>"
            ]
          },
          "metadata": {
            "needs_background": "light"
          }
        },
        {
          "output_type": "display_data",
          "data": {
            "image/png": "[encoded data removed]",
            "text/plain": [
              "<Figure size 432x288 with 1 Axes>"
            ]
          },
          "metadata": {
            "needs_background": "light"
          }
        }
      ]
    }
  ]
}